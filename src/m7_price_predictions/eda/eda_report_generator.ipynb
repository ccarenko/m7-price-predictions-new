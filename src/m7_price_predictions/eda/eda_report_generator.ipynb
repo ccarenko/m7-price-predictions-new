{
 "cells": [
  {
   "cell_type": "markdown",
   "metadata": {},
   "source": [
    "### Exploratory Data Analysis Summary\n",
    "This notebook looks at the selected features and summarises the main finding\n",
    "Note: The initial EDA for this project has been documented in confluence pages and this notebook will only sumamarise the key findings"
   ]
  },
  {
   "cell_type": "markdown",
   "metadata": {},
   "source": [
    "#### Import required packages"
   ]
  },
  {
   "cell_type": "code",
   "execution_count": 1,
   "metadata": {},
   "outputs": [
    {
     "ename": "ImportError",
     "evalue": "cannot import name 'constant' from 'm7_price_predictions.utils' (unknown location)",
     "output_type": "error",
     "traceback": [
      "\u001b[0;31m---------------------------------------------------------------------------\u001b[0m",
      "\u001b[0;31mImportError\u001b[0m                               Traceback (most recent call last)",
      "\u001b[0;32m<ipython-input-1-c4877173f8ef>\u001b[0m in \u001b[0;36m<module>\u001b[0;34m\u001b[0m\n\u001b[1;32m      3\u001b[0m \u001b[0;32mimport\u001b[0m \u001b[0mjoblib\u001b[0m\u001b[0;34m\u001b[0m\u001b[0;34m\u001b[0m\u001b[0m\n\u001b[1;32m      4\u001b[0m \u001b[0;34m\u001b[0m\u001b[0m\n\u001b[0;32m----> 5\u001b[0;31m \u001b[0;32mfrom\u001b[0m \u001b[0mm7_price_predictions\u001b[0m\u001b[0;34m.\u001b[0m\u001b[0mutils\u001b[0m\u001b[0;34m.\u001b[0m\u001b[0marchived\u001b[0m \u001b[0;32mimport\u001b[0m \u001b[0mdata_handling\u001b[0m\u001b[0;34m\u001b[0m\u001b[0;34m\u001b[0m\u001b[0m\n\u001b[0m\u001b[1;32m      6\u001b[0m \u001b[0;32mfrom\u001b[0m \u001b[0mm7_price_predictions\u001b[0m\u001b[0;34m.\u001b[0m\u001b[0mutils\u001b[0m\u001b[0;34m.\u001b[0m\u001b[0marchived\u001b[0m \u001b[0;32mimport\u001b[0m \u001b[0mconstant\u001b[0m\u001b[0;34m\u001b[0m\u001b[0;34m\u001b[0m\u001b[0m\n\u001b[1;32m      7\u001b[0m \u001b[0;32mfrom\u001b[0m \u001b[0mdataprep\u001b[0m\u001b[0;34m.\u001b[0m\u001b[0meda\u001b[0m \u001b[0;32mimport\u001b[0m \u001b[0mcreate_report\u001b[0m\u001b[0;34m\u001b[0m\u001b[0;34m\u001b[0m\u001b[0m\n",
      "\u001b[0;32m~/Dropbox (Arenko)/Dimi/src/m7-price-predictions/m7_price_predictions/utils/archived/data_handling.py\u001b[0m in \u001b[0;36m<module>\u001b[0;34m\u001b[0m\n\u001b[1;32m      1\u001b[0m \u001b[0;32mimport\u001b[0m \u001b[0mpandas\u001b[0m \u001b[0;32mas\u001b[0m \u001b[0mpd\u001b[0m\u001b[0;34m\u001b[0m\u001b[0;34m\u001b[0m\u001b[0m\n\u001b[1;32m      2\u001b[0m \u001b[0;34m\u001b[0m\u001b[0m\n\u001b[0;32m----> 3\u001b[0;31m \u001b[0;32mfrom\u001b[0m \u001b[0mm7_price_predictions\u001b[0m\u001b[0;34m.\u001b[0m\u001b[0mutils\u001b[0m \u001b[0;32mimport\u001b[0m \u001b[0mconstant\u001b[0m\u001b[0;34m\u001b[0m\u001b[0;34m\u001b[0m\u001b[0m\n\u001b[0m\u001b[1;32m      4\u001b[0m \u001b[0;34m\u001b[0m\u001b[0m\n\u001b[1;32m      5\u001b[0m \u001b[0mtrainFrom\u001b[0m \u001b[0;34m=\u001b[0m \u001b[0mconstant\u001b[0m\u001b[0;34m.\u001b[0m\u001b[0mdata\u001b[0m\u001b[0;34m[\u001b[0m\u001b[0;34m\"train_dates\"\u001b[0m\u001b[0;34m]\u001b[0m\u001b[0;34m[\u001b[0m\u001b[0;34m\"FROM\"\u001b[0m\u001b[0;34m]\u001b[0m\u001b[0;34m\u001b[0m\u001b[0;34m\u001b[0m\u001b[0m\n",
      "\u001b[0;31mImportError\u001b[0m: cannot import name 'constant' from 'm7_price_predictions.utils' (unknown location)"
     ]
    },
    {
     "data": {
      "application/javascript": "\n            setTimeout(function() {\n                var nbb_cell_id = 1;\n                var nbb_unformatted_code = \"%load_ext nb_black\\n\\nimport joblib\\n\\nfrom m7_price_predictions.utils.archived import data_handling\\nfrom m7_price_predictions.utils.archived import constant\\nfrom dataprep.eda import create_report\\n\\nREPORT_PATH = constant.TOP_LEVEL / \\\"eda\\\" / \\\"reports\\\"\";\n                var nbb_formatted_code = \"%load_ext nb_black\\n\\nimport joblib\\n\\nfrom m7_price_predictions.utils.archived import data_handling\\nfrom m7_price_predictions.utils.archived import constant\\nfrom dataprep.eda import create_report\\n\\nREPORT_PATH = constant.TOP_LEVEL / \\\"eda\\\" / \\\"reports\\\"\";\n                var nbb_cells = Jupyter.notebook.get_cells();\n                for (var i = 0; i < nbb_cells.length; ++i) {\n                    if (nbb_cells[i].input_prompt_number == nbb_cell_id) {\n                        if (nbb_cells[i].get_text() == nbb_unformatted_code) {\n                             nbb_cells[i].set_text(nbb_formatted_code);\n                        }\n                        break;\n                    }\n                }\n            }, 500);\n            ",
      "text/plain": [
       "<IPython.core.display.Javascript object>"
      ]
     },
     "metadata": {},
     "output_type": "display_data"
    }
   ],
   "source": [
    "%load_ext nb_black\n",
    "\n",
    "import joblib\n",
    "\n",
    "from m7_price_predictions.utils.archived import constant\n",
    "from m7_price_predictions.utils.archived import data_handling\n",
    "\n",
    "from dataprep.eda import create_report\n",
    "\n",
    "REPORT_PATH = constant.TOP_LEVEL / \"eda\" / \"reports\""
   ]
  },
  {
   "cell_type": "markdown",
   "metadata": {},
   "source": [
    "### Load features\n",
    "- Features for periods 3 to 13 before delivery are loaded and stored in a dictionary.\n",
    "- The snapshots for the data are taken 5' before the end of the rspsective period\n",
    "\n",
    "#### EDA will focus on period 3 or 65' before delivery"
   ]
  },
  {
   "cell_type": "code",
   "execution_count": null,
   "metadata": {},
   "outputs": [
    {
     "name": "stdout",
     "output_type": "stream",
     "text": [
      "Period 3  - No of columns: 13\n",
      "['tos_range' 'offer_range' 'bid_q50' 'drm_2h' 'lolp_2h' 'demand_pred'\n",
      " 'apx_price' 'gas_price' 'quarter_cos' 'atr' 'ewm' 'MACD' 'y_true']\n"
     ]
    },
    {
     "data": {
      "application/vnd.jupyter.widget-view+json": {
       "model_id": "",
       "version_major": 2,
       "version_minor": 0
      },
      "text/plain": [
       "HBox(children=(HTML(value=''), FloatProgress(value=0.0, layout=Layout(flex='2'), max=1959.0), HTML(value='')),…"
      ]
     },
     "metadata": {},
     "output_type": "display_data"
    },
    {
     "name": "stdout",
     "output_type": "stream",
     "text": [
      "Period 4  - No of columns: 13\n",
      "['tos_range' 'offer_range' 'bid_q50' 'drm_2h' 'lolp_2h' 'demand_pred'\n",
      " 'apx_price' 'gas_price' 'quarter_cos' 'atr' 'ewm' 'MACD' 'y_true']\n"
     ]
    },
    {
     "data": {
      "application/vnd.jupyter.widget-view+json": {
       "model_id": "",
       "version_major": 2,
       "version_minor": 0
      },
      "text/plain": [
       "HBox(children=(HTML(value=''), FloatProgress(value=0.0, layout=Layout(flex='2'), max=1959.0), HTML(value='')),…"
      ]
     },
     "metadata": {},
     "output_type": "display_data"
    },
    {
     "name": "stdout",
     "output_type": "stream",
     "text": [
      "Period 5  - No of columns: 13\n",
      "['tos_range' 'offer_range' 'bid_q50' 'drm_4h' 'lolp_4h' 'demand_pred'\n",
      " 'apx_price' 'gas_price' 'quarter_cos' 'atr' 'ewm' 'MACD' 'y_true']\n"
     ]
    },
    {
     "data": {
      "application/vnd.jupyter.widget-view+json": {
       "model_id": "",
       "version_major": 2,
       "version_minor": 0
      },
      "text/plain": [
       "HBox(children=(HTML(value=''), FloatProgress(value=0.0, layout=Layout(flex='2'), max=1959.0), HTML(value='')),…"
      ]
     },
     "metadata": {},
     "output_type": "display_data"
    },
    {
     "name": "stdout",
     "output_type": "stream",
     "text": [
      "Period 6  - No of columns: 13\n",
      "['tos_range' 'offer_range' 'bid_q50' 'drm_4h' 'lolp_4h' 'demand_pred'\n",
      " 'apx_price' 'gas_price' 'quarter_cos' 'atr' 'ewm' 'MACD' 'y_true']\n"
     ]
    },
    {
     "data": {
      "application/vnd.jupyter.widget-view+json": {
       "model_id": "",
       "version_major": 2,
       "version_minor": 0
      },
      "text/plain": [
       "HBox(children=(HTML(value=''), FloatProgress(value=0.0, layout=Layout(flex='2'), max=1959.0), HTML(value='')),…"
      ]
     },
     "metadata": {},
     "output_type": "display_data"
    },
    {
     "name": "stdout",
     "output_type": "stream",
     "text": [
      "Period 7  - No of columns: 13\n",
      "['tos_range' 'offer_range' 'bid_q50' 'drm_4h' 'lolp_4h' 'demand_pred'\n",
      " 'apx_price' 'gas_price' 'quarter_cos' 'atr' 'ewm' 'MACD' 'y_true']\n"
     ]
    },
    {
     "data": {
      "application/vnd.jupyter.widget-view+json": {
       "model_id": "",
       "version_major": 2,
       "version_minor": 0
      },
      "text/plain": [
       "HBox(children=(HTML(value=''), FloatProgress(value=0.0, layout=Layout(flex='2'), max=1959.0), HTML(value='')),…"
      ]
     },
     "metadata": {},
     "output_type": "display_data"
    },
    {
     "name": "stdout",
     "output_type": "stream",
     "text": [
      "Period 8  - No of columns: 13\n",
      "['tos_range' 'offer_range' 'bid_q50' 'drm_4h' 'lolp_4h' 'demand_pred'\n",
      " 'apx_price' 'gas_price' 'quarter_cos' 'atr' 'ewm' 'MACD' 'y_true']\n"
     ]
    },
    {
     "data": {
      "application/vnd.jupyter.widget-view+json": {
       "model_id": "",
       "version_major": 2,
       "version_minor": 0
      },
      "text/plain": [
       "HBox(children=(HTML(value=''), FloatProgress(value=0.0, layout=Layout(flex='2'), max=1959.0), HTML(value='')),…"
      ]
     },
     "metadata": {},
     "output_type": "display_data"
    },
    {
     "name": "stdout",
     "output_type": "stream",
     "text": [
      "Period 9  - No of columns: 13\n",
      "['tos_range' 'offer_range' 'bid_q50' 'drm_8h' 'lolp_8h' 'demand_pred'\n",
      " 'apx_price' 'gas_price' 'quarter_cos' 'atr' 'ewm' 'MACD' 'y_true']\n"
     ]
    },
    {
     "data": {
      "application/vnd.jupyter.widget-view+json": {
       "model_id": "",
       "version_major": 2,
       "version_minor": 0
      },
      "text/plain": [
       "HBox(children=(HTML(value=''), FloatProgress(value=0.0, layout=Layout(flex='2'), max=1959.0), HTML(value='')),…"
      ]
     },
     "metadata": {},
     "output_type": "display_data"
    },
    {
     "name": "stdout",
     "output_type": "stream",
     "text": [
      "Period 10  - No of columns: 13\n",
      "['tos_range' 'offer_range' 'bid_q50' 'drm_8h' 'lolp_8h' 'demand_pred'\n",
      " 'apx_price' 'gas_price' 'quarter_cos' 'atr' 'ewm' 'MACD' 'y_true']\n"
     ]
    },
    {
     "data": {
      "application/vnd.jupyter.widget-view+json": {
       "model_id": "",
       "version_major": 2,
       "version_minor": 0
      },
      "text/plain": [
       "HBox(children=(HTML(value=''), FloatProgress(value=0.0, layout=Layout(flex='2'), max=1959.0), HTML(value='')),…"
      ]
     },
     "metadata": {},
     "output_type": "display_data"
    },
    {
     "name": "stdout",
     "output_type": "stream",
     "text": [
      "Period 11  - No of columns: 13\n",
      "['tos_range' 'offer_range' 'bid_q50' 'drm_8h' 'lolp_8h' 'demand_pred'\n",
      " 'apx_price' 'gas_price' 'quarter_cos' 'atr' 'ewm' 'MACD' 'y_true']\n"
     ]
    },
    {
     "data": {
      "application/vnd.jupyter.widget-view+json": {
       "model_id": "",
       "version_major": 2,
       "version_minor": 0
      },
      "text/plain": [
       "HBox(children=(HTML(value=''), FloatProgress(value=0.0, layout=Layout(flex='2'), max=1959.0), HTML(value='')),…"
      ]
     },
     "metadata": {},
     "output_type": "display_data"
    },
    {
     "name": "stdout",
     "output_type": "stream",
     "text": [
      "Period 12  - No of columns: 13\n",
      "['tos_range' 'offer_range' 'bid_q50' 'drm_8h' 'lolp_8h' 'demand_pred'\n",
      " 'apx_price' 'gas_price' 'quarter_cos' 'atr' 'ewm' 'MACD' 'y_true']\n"
     ]
    },
    {
     "data": {
      "application/vnd.jupyter.widget-view+json": {
       "model_id": "",
       "version_major": 2,
       "version_minor": 0
      },
      "text/plain": [
       "HBox(children=(HTML(value=''), FloatProgress(value=0.0, layout=Layout(flex='2'), max=1959.0), HTML(value='')),…"
      ]
     },
     "metadata": {},
     "output_type": "display_data"
    },
    {
     "name": "stdout",
     "output_type": "stream",
     "text": [
      "Period 13  - No of columns: 13\n",
      "['tos_range' 'offer_range' 'bid_q50' 'drm_8h' 'lolp_8h' 'demand_pred'\n",
      " 'apx_price' 'gas_price' 'quarter_cos' 'atr' 'ewm' 'MACD' 'y_true']\n"
     ]
    },
    {
     "data": {
      "application/vnd.jupyter.widget-view+json": {
       "model_id": "",
       "version_major": 2,
       "version_minor": 0
      },
      "text/plain": [
       "HBox(children=(HTML(value=''), FloatProgress(value=0.0, layout=Layout(flex='2'), max=1959.0), HTML(value='')),…"
      ]
     },
     "metadata": {},
     "output_type": "display_data"
    },
    {
     "data": {
      "application/javascript": "\n            setTimeout(function() {\n                var nbb_cell_id = 2;\n                var nbb_unformatted_code = \"features_dict = data_handling.load_data()\\nfor key in sorted(features_dict.keys()):\\n    print(\\\"Period\\\", key, \\\" - No of columns:\\\", len(features_dict[key].columns))\\n    print(features_dict[key].columns.values)\\n    # Generate the EDA summary report\\n    report = create_report(features_dict[key])\\n    fname = \\\"eda_\\\" + str(key).zfill(2) + \\\".html\\\"\\n    joblib.dump(report, REPORT_PATH / fname)\";\n                var nbb_formatted_code = \"features_dict = data_handling.load_data()\\nfor key in sorted(features_dict.keys()):\\n    print(\\\"Period\\\", key, \\\" - No of columns:\\\", len(features_dict[key].columns))\\n    print(features_dict[key].columns.values)\\n    # Generate the EDA summary report\\n    report = create_report(features_dict[key])\\n    fname = \\\"eda_\\\" + str(key).zfill(2) + \\\".html\\\"\\n    joblib.dump(report, REPORT_PATH / fname)\";\n                var nbb_cells = Jupyter.notebook.get_cells();\n                for (var i = 0; i < nbb_cells.length; ++i) {\n                    if (nbb_cells[i].input_prompt_number == nbb_cell_id) {\n                        if (nbb_cells[i].get_text() == nbb_unformatted_code) {\n                             nbb_cells[i].set_text(nbb_formatted_code);\n                        }\n                        break;\n                    }\n                }\n            }, 500);\n            ",
      "text/plain": [
       "<IPython.core.display.Javascript object>"
      ]
     },
     "metadata": {},
     "output_type": "display_data"
    }
   ],
   "source": [
    "features_dict = data_handling.load_data()\n",
    "for key in sorted(features_dict.keys()):\n",
    "    print(\"Period\", key, \" - No of columns:\", len(features_dict[key].columns))\n",
    "    print(features_dict[key].columns.values)\n",
    "    # Generate the EDA summary report\n",
    "    report = create_report(features_dict[key])\n",
    "    fname = \"eda_\" + str(key).zfill(2) + \".html\"\n",
    "    joblib.dump(report, REPORT_PATH / fname)"
   ]
  },
  {
   "cell_type": "markdown",
   "metadata": {},
   "source": [
    "### Notes\n",
    "- The examined features above have already been preprocessed, hence there are no missing values and only the most important ones have been used out of a total of 20-25 that have been tested\n",
    "- The important features across different periods are the same with the exception of time dependant ones (i.e lolp that is essentially the same but refers to a different forecast horizon"
   ]
  },
  {
   "cell_type": "code",
   "execution_count": null,
   "metadata": {},
   "outputs": [],
   "source": [
    "from datetime import datetime, timedelta\n",
    "import pytz\n",
    "from arenkods.data.fs import FeatureStore\n",
    "\n",
    "\n",
    "date_start = \"2021-01-01 00:00:00\"\n",
    "date_end  = \"2021-10-05 00:00:00\"\n",
    "time_format= \"%Y-%m-%d %H:%M:%S\"\n",
    "start = dt.strptime(date_start, time_format).replace(tzinfo=pytz.UTC)\n",
    "end = dt.strptime(date_end, time_format).replace(tzinfo=pytz.UTC)\n",
    "diff = end-start\n",
    "\n",
    "\n",
    "fs = FeatureStore()\n",
    "\n",
    "target= \"m7_gate_price_mean\"\n",
    "features:[\n",
    "    \"lolp_2hour\",\n",
    "    \"lolp_4hour\",\n",
    "    \"lolp_8hour\",\n",
    "    \"lolp_12hour\",\n",
    "    \"transmission_system_demand_forecast\",\n",
    "    \"ets_half_hour_price\",\n",
    "    \"m7_orderbook_hh\",\n",
    "    \"m7_public_trades_hh\",\n",
    "    \"net_imbalance_volume\",\n",
    "    \"latest_wind_forecast\",\n",
    "    \"reserve_scarcity_price\",\n",
    "]"
   ]
  },
  {
   "cell_type": "code",
   "execution_count": null,
   "metadata": {},
   "outputs": [
    {
     "name": "stdout",
     "output_type": "stream",
     "text": [
      "check\n"
     ]
    }
   ],
   "source": [
    "if diff.days >180:\n",
    "    tmp_end = start + timedelta    "
   ]
  },
  {
   "cell_type": "code",
   "execution_count": null,
   "metadata": {},
   "outputs": [
    {
     "ename": "NameError",
     "evalue": "name 'fs' is not defined",
     "output_type": "error",
     "traceback": [
      "\u001b[0;31m---------------------------------------------------------------------------\u001b[0m",
      "\u001b[0;31mNameError\u001b[0m                                 Traceback (most recent call last)",
      "\u001b[0;32m<ipython-input-16-0dea1c1849f5>\u001b[0m in \u001b[0;36m<module>\u001b[0;34m\u001b[0m\n\u001b[0;32m----> 1\u001b[0;31m response = fs.get_long_features(\n\u001b[0m\u001b[1;32m      2\u001b[0m         \u001b[0mfeats\u001b[0m \u001b[0;34m+\u001b[0m \u001b[0;34m[\u001b[0m\u001b[0mtarget\u001b[0m\u001b[0;34m]\u001b[0m\u001b[0;34m,\u001b[0m\u001b[0;34m\u001b[0m\u001b[0;34m\u001b[0m\u001b[0m\n\u001b[1;32m      3\u001b[0m         \u001b[0mstart\u001b[0m \u001b[0;34m-\u001b[0m \u001b[0mtimedelta\u001b[0m\u001b[0;34m(\u001b[0m\u001b[0mminutes\u001b[0m\u001b[0;34m=\u001b[0m\u001b[0;36m30\u001b[0m \u001b[0;34m*\u001b[0m \u001b[0mhours_to_predict_ahead_of_gate_closure\u001b[0m\u001b[0;34m)\u001b[0m\u001b[0;34m,\u001b[0m\u001b[0;34m\u001b[0m\u001b[0;34m\u001b[0m\u001b[0m\n\u001b[1;32m      4\u001b[0m         \u001b[0mend\u001b[0m \u001b[0;34m+\u001b[0m \u001b[0mtimedelta\u001b[0m\u001b[0;34m(\u001b[0m\u001b[0mminutes\u001b[0m\u001b[0;34m=\u001b[0m\u001b[0;36m30\u001b[0m \u001b[0;34m*\u001b[0m \u001b[0mSP_horizon\u001b[0m\u001b[0;34m[\u001b[0m\u001b[0;34m-\u001b[0m\u001b[0;36m1\u001b[0m\u001b[0;34m]\u001b[0m\u001b[0;34m)\u001b[0m\u001b[0;34m,\u001b[0m\u001b[0;34m\u001b[0m\u001b[0;34m\u001b[0m\u001b[0m\n\u001b[1;32m      5\u001b[0m     )\n",
      "\u001b[0;31mNameError\u001b[0m: name 'fs' is not defined"
     ]
    }
   ],
   "source": [
    "\n",
    "response = fs.get_long_features(features + [target], start, end)"
   ]
  },
  {
   "cell_type": "code",
   "execution_count": null,
   "metadata": {},
   "outputs": [],
   "source": []
  }
 ],
 "metadata": {
  "kernelspec": {
   "display_name": "Python 3",
   "language": "python",
   "name": "python3"
  },
  "language_info": {
   "codemirror_mode": {
    "name": "ipython",
    "version": 3
   },
   "file_extension": ".py",
   "mimetype": "text/x-python",
   "name": "python",
   "nbconvert_exporter": "python",
   "pygments_lexer": "ipython3",
   "version": "3.8.8"
  }
 },
 "nbformat": 4,
 "nbformat_minor": 4
}
